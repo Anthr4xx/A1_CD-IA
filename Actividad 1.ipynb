{
 "cells": [
  {
   "cell_type": "markdown",
   "metadata": {},
   "source": [
    "# Actividad 1"
   ]
  },
  {
   "cell_type": "markdown",
   "metadata": {},
   "source": [
    "### A1: Ciudades de Florida"
   ]
  },
  {
   "cell_type": "markdown",
   "metadata": {},
   "source": [
    "##### Sin Pandas\n",
    "\n",
    "\n",
    "- Se obtendrá el archivo CSV a través del URL proporcionado.\n",
    "- Se procesarán los datos utilizando exclusivamente funcionalidades de Python (`csv`, `urllib`).\n",
    "- Se hará únicamente el conteo de las ciudades del estado de Florida. En caso de múltiples instancias con la misma ciudad, solo contará una vez."
   ]
  },
  {
   "cell_type": "code",
   "execution_count": null,
   "metadata": {},
   "outputs": [
    {
     "name": "stdout",
     "output_type": "stream",
     "text": [
      "Número de ciudades únicas en Florida (Python puro): 537\n"
     ]
    }
   ],
   "source": [
    "import csv\n",
    "import urllib.request\n",
    "\n",
    "\n",
    "\n",
    "url = \"https://raw.githubusercontent.com/grammakov/USA-cities-and-states/master/us_cities_states_counties.csv\"\n",
    "\n",
    "\n",
    "with urllib.request.urlopen(url) as response:\n",
    "    lines = [line.decode('utf-8') for line in response.readlines()]\n",
    "    reader = csv.reader(lines, delimiter='|')\n",
    "\n",
    "    header = next(reader)\n",
    "    ciudades_florida = set()\n",
    "\n",
    "    for row in reader:\n",
    "        city, _, state_full, _, _ = row\n",
    "        if state_full.strip() == \"Florida\":\n",
    "            ciudades_florida.add(city.strip())\n",
    "\n",
    "print(\"Número de ciudades de Florida:\", len(ciudades_florida))"
   ]
  },
  {
   "cell_type": "markdown",
   "metadata": {},
   "source": [
    "##### Con Pandas\n",
    "\n",
    "\n",
    "- Se hará uso `pandas` para leer el archivo CSV.\n",
    "- Se filtrarán las filas correspondientes al estado de Florida\n",
    "- Se contará el número de ciudades únicas."
   ]
  },
  {
   "cell_type": "code",
   "execution_count": 3,
   "metadata": {},
   "outputs": [
    {
     "name": "stdout",
     "output_type": "stream",
     "text": [
      "Número de ciudades de Florida: 537\n"
     ]
    }
   ],
   "source": [
    "import pandas as pd\n",
    "\n",
    "\n",
    "\n",
    "url = \"https://raw.githubusercontent.com/grammakov/USA-cities-and-states/master/us_cities_states_counties.csv\"\n",
    "\n",
    "\n",
    "df = pd.read_csv(url, sep='|')\n",
    "\n",
    "florida_df = df[df[\"State full\"] == \"Florida\"]\n",
    "\n",
    "num_ciudades_florida = florida_df[\"City\"].nunique()\n",
    "\n",
    "print(\"Número de ciudades de Florida:\", num_ciudades_florida)"
   ]
  },
  {
   "cell_type": "markdown",
   "metadata": {},
   "source": [
    "### A2: Matriz aleatoria"
   ]
  },
  {
   "cell_type": "markdown",
   "metadata": {},
   "source": [
    "##### Matriz 16x16\n",
    "\n",
    "- Suma de los elementos\n",
    "- Media de los elementos\n",
    "- Mínimo por fila\n",
    "- Máximo por fila\n",
    "\n",
    "Cada resultado mostrará como un `array` (16, 1)."
   ]
  },
  {
   "cell_type": "code",
   "execution_count": null,
   "metadata": {},
   "outputs": [],
   "source": [
    "import pandas as pd\n",
    "import numpy as np\n",
    "\n",
    "\n",
    "\n",
    "matriz = pd.DataFrame(np.random.randint(0, 101, size=(16, 16)))\n",
    "\n",
    "print(\"Matriz 16x16 generada (valores de 0 a 100):\\n\")\n",
    "print(matriz)\n",
    "\n",
    "\n",
    "suma_filas = matriz.sum(axis=1).values.reshape(-1, 1)\n",
    "media_filas = matriz.mean(axis=1).values.reshape(-1, 1)\n",
    "min_filas = matriz.min(axis=1).values.reshape(-1, 1)\n",
    "max_filas = matriz.max(axis=1).values.reshape(-1, 1)\n",
    "\n",
    "print(\"\\n\")\n",
    "print(\"Suma por fila:\\n\", suma_filas)\n",
    "print(\"\\nMedia por fila:\\n\", media_filas)\n",
    "print(\"\\nMínimos por fila:\\n\", min_filas)\n",
    "print(\"\\nMáximos por fila:\\n\", max_filas)"
   ]
  }
 ],
 "metadata": {
  "kernelspec": {
   "display_name": "Actividad_1-w7hzcujI",
   "language": "python",
   "name": "python3"
  },
  "language_info": {
   "codemirror_mode": {
    "name": "ipython",
    "version": 3
   },
   "file_extension": ".py",
   "mimetype": "text/x-python",
   "name": "python",
   "nbconvert_exporter": "python",
   "pygments_lexer": "ipython3",
   "version": "3.12.10"
  }
 },
 "nbformat": 4,
 "nbformat_minor": 2
}
