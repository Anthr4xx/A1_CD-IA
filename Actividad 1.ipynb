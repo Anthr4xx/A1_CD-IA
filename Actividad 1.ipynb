{
 "cells": [
  {
   "cell_type": "markdown",
   "metadata": {},
   "source": [
    "# Actividad 1"
   ]
  },
  {
   "cell_type": "markdown",
   "metadata": {},
   "source": [
    "### A1: Ciudades de Florida"
   ]
  },
  {
   "cell_type": "markdown",
   "metadata": {},
   "source": [
    "##### Sin Pandas\n",
    "\n",
    "\n",
    "- Se obtendrá el archivo CSV a través del URL proporcionado.\n",
    "- Se procesarán los datos utilizando exclusivamente funcionalidades de Python (`csv`, `urllib`).\n",
    "- Se hará únicamente el conteo de las ciudades del estado de Florida. En caso de múltiples instancias con la misma ciudad, solo contará una vez."
   ]
  },
  {
   "cell_type": "code",
   "execution_count": 5,
   "metadata": {},
   "outputs": [],
   "source": [
    "import csv\n",
    "import urllib.request\n",
    "\n",
    "import pandas as pd"
   ]
  },
  {
   "cell_type": "code",
   "execution_count": 3,
   "metadata": {},
   "outputs": [
    {
     "name": "stdout",
     "output_type": "stream",
     "text": [
      "Número de ciudades de Florida: 537\n"
     ]
    }
   ],
   "source": [
    "url = \"https://raw.githubusercontent.com/grammakov/USA-cities-and-states/master/us_cities_states_counties.csv\"\n",
    "\n",
    "\n",
    "with urllib.request.urlopen(url) as response:\n",
    "    lines = [line.decode('utf-8') for line in response.readlines()]\n",
    "    reader = csv.reader(lines, delimiter='|')\n",
    "\n",
    "    header = next(reader)\n",
    "    ciudades_florida = set()\n",
    "\n",
    "    for row in reader:\n",
    "        city, _, state_full, _, _ = row\n",
    "        if state_full.strip() == \"Florida\":\n",
    "            ciudades_florida.add(city.strip())\n",
    "\n",
    "print(\"Número de ciudades de Florida:\", len(ciudades_florida))"
   ]
  },
  {
   "cell_type": "markdown",
   "metadata": {},
   "source": [
    "##### Con Pandas\n",
    "\n",
    "\n",
    "- Se hará uso `pandas` para leer el archivo CSV.\n",
    "- Se filtrarán las filas correspondientes al estado de Florida\n",
    "- Se contará el número de ciudades únicas."
   ]
  },
  {
   "cell_type": "code",
   "execution_count": 6,
   "metadata": {},
   "outputs": [
    {
     "name": "stdout",
     "output_type": "stream",
     "text": [
      "Número de ciudades de Florida: 537\n"
     ]
    }
   ],
   "source": [
    "url = \"https://raw.githubusercontent.com/grammakov/USA-cities-and-states/master/us_cities_states_counties.csv\"\n",
    "\n",
    "\n",
    "df = pd.read_csv(url, sep='|')\n",
    "\n",
    "florida_df = df[df[\"State full\"] == \"Florida\"]\n",
    "\n",
    "num_ciudades_florida = florida_df[\"City\"].nunique()\n",
    "\n",
    "print(\"Número de ciudades de Florida:\", num_ciudades_florida)"
   ]
  },
  {
   "cell_type": "markdown",
   "metadata": {},
   "source": [
    "### A2: Matriz aleatoria"
   ]
  },
  {
   "cell_type": "markdown",
   "metadata": {},
   "source": [
    "##### Matriz 16x16\n",
    "\n",
    "- Suma de los elementos\n",
    "- Media de los elementos\n",
    "- Mínimo por fila\n",
    "- Máximo por fila\n",
    "\n",
    "Cada resultado mostrará como un `array` (16, 1)."
   ]
  },
  {
   "cell_type": "code",
   "execution_count": null,
   "metadata": {},
   "outputs": [],
   "source": [
    "import pandas as pd\n",
    "import numpy as np"
   ]
  },
  {
   "cell_type": "code",
   "execution_count": null,
   "metadata": {},
   "outputs": [],
   "source": [
    "matriz = pd.DataFrame(np.random.randint(0, 101, size=(16, 16)))\n",
    "\n",
    "print(\"Matriz 16x16 generada (valores de 0 a 100):\\n\")\n",
    "print(matriz)\n",
    "\n",
    "\n",
    "suma_filas = matriz.sum(axis=1).values.reshape(-1, 1)\n",
    "media_filas = matriz.mean(axis=1).values.reshape(-1, 1)\n",
    "min_filas = matriz.min(axis=1).values.reshape(-1, 1)\n",
    "max_filas = matriz.max(axis=1).values.reshape(-1, 1)\n",
    "\n",
    "print(\"\\n\")\n",
    "print(\"Suma por fila:\\n\", suma_filas)\n",
    "print(\"\\nMedia por fila:\\n\", media_filas)\n",
    "print(\"\\nMínimos por fila:\\n\", min_filas)\n",
    "print(\"\\nMáximos por fila:\\n\", max_filas)"
   ]
  },
  {
   "cell_type": "markdown",
   "metadata": {},
   "source": [
    "### A3: Broadcasting"
   ]
  },
  {
   "cell_type": "markdown",
   "metadata": {},
   "source": [
    "##### Ejemplo\n",
    "\n",
    "Se utilizará como ejemplo para este ejercicio los tableros de puntuación de videojuegos.\n",
    "\n",
    "- Los datos que se utilizarán son `[Score ,Kills, Deaths, Assists]` para cada fila, lo cual representará a un jugador.\n",
    "\n",
    "- Existirán 3 equipos (Rojo, Azúl y Blanco) con 5 jugadores cada uno.\n",
    "- Se simularán tener 3 partidas (Rojo vs Azúl, Rojo vs Blanco y Azúl vs Blanco).\n",
    "- Cada partida proporcionará dos matrices.\n",
    "\n",
    "Al final tendré 6 matrices (5x4)"
   ]
  },
  {
   "cell_type": "code",
   "execution_count": 2,
   "metadata": {},
   "outputs": [],
   "source": [
    "import numpy as np\n",
    "import pandas as pd"
   ]
  },
  {
   "cell_type": "markdown",
   "metadata": {},
   "source": [
    "##### Scoreboard\n",
    "\n",
    "- Generador de los tableros de puntuaciones y estadiscticas.\n",
    "\n",
    "  - 3 partidas, 6 tableros de puntuación.\n",
    "  - 15 jugadores con 2 registros de estadisticas, cada uno. 30 registros en total."
   ]
  },
  {
   "cell_type": "code",
   "execution_count": null,
   "metadata": {},
   "outputs": [
    {
     "name": "stdout",
     "output_type": "stream",
     "text": [
      "\n",
      "\n",
      "Red vs Blue\n",
      "\n",
      " Score_R  Kills_R  Deaths_R  Assists_R     Score_B  Kills_B  Deaths_B  Assists_B\n",
      "    2999       11         6         12        2504        4         2         14\n",
      "    2598        5         2          3        2404        8         6         15\n",
      "    1725        0         3          0        1641        2         3          6\n",
      "    1154        9         5         10        1410        8         3         18\n",
      "    1081       12         4         20        1233        3         3         15\n",
      "\n",
      "\n",
      "Red vs White\n",
      "\n",
      " Score_R  Kills_R  Deaths_R  Assists_R     Score_W  Kills_W  Deaths_W  Assists_W\n",
      "    2926       19         0         20        2244        8         0          8\n",
      "    2757       14         6          9        1775       16         1         18\n",
      "    1575        6         1          5        1711       14         0         19\n",
      "    1449       18         4         17        1692       11         1          6\n",
      "    1228       12         4          6        1526       18         3          2\n",
      "\n",
      "\n",
      "Blue vs White\n",
      "\n",
      " Score_B  Kills_B  Deaths_B  Assists_B     Score_W  Kills_W  Deaths_W  Assists_W\n",
      "    2209        7         2         14        2777        4         5          0\n",
      "    2109        3         0         17        1443       17         1         15\n",
      "    1503       16         3         17        1139        7         2          8\n",
      "    1454        5         0         18        1075        7         2          3\n",
      "    1013        1         0          6        1015       17         5         14\n"
     ]
    }
   ],
   "source": [
    "score_range = (1000, 3001)\n",
    "kills_range = (0, 21)\n",
    "deaths_range = (0, 7)\n",
    "assists_range = (0, 21)\n",
    "\n",
    "equipos = [\"Red\", \"Blue\", \"White\"]\n",
    "partidas = [(\"Red\", \"Blue\"), (\"Red\", \"White\"), (\"Blue\", \"White\")]\n",
    "estadisticas = {}\n",
    "columnas = [\"Score\", \"Kills\", \"Deaths\", \"Assists\"]\n",
    "\n",
    "\n",
    "for equipo1, equipo2 in partidas:\n",
    "    for equipo in [equipo1, equipo2]:\n",
    "        clave = f\"{equipo1} vs {equipo2} - {equipo}\"\n",
    "        data = np.column_stack([\n",
    "            np.random.randint(*score_range, size=5),\n",
    "            np.random.randint(*kills_range, size=5),\n",
    "            np.random.randint(*deaths_range, size=5),\n",
    "            np.random.randint(*assists_range, size=5)\n",
    "        ])\n",
    "        estadisticas[clave] = pd.DataFrame(data, columns=columnas)\n",
    "\n",
    "\n",
    "for team1, team2 in partidas:\n",
    "    key1 = f\"{team1} vs {team2} - {team1}\"\n",
    "    key2 = f\"{team1} vs {team2} - {team2}\"\n",
    "    df1 = estadisticas[key1].sort_values(by=\"Score\", ascending=False).reset_index(drop=True)\n",
    "    df2 = estadisticas[key2].sort_values(by=\"Score\", ascending=False).reset_index(drop=True)\n",
    "\n",
    "    print(f\"\\n\\n{team1} vs {team2}\\n\")\n",
    "\n",
    "    df1 = df1.rename(columns={col: f\"{col}_{team1[0]}\" for col in df1.columns})\n",
    "    df2 = df2.rename(columns={col: f\"{col}_{team2[0]}\" for col in df2.columns})\n",
    "\n",
    "    separator = pd.DataFrame([[\"\"] * 2] * df1.shape[0], columns=[\"\", \" \"])\n",
    "\n",
    "    # Mostrar matrices encontradas en base a la partida:\n",
    "    df_comparado = pd.concat([df1, separator, df2], axis=1)\n",
    "    print(df_comparado.to_string(index=False))\n",
    "\n"
   ]
  },
  {
   "cell_type": "markdown",
   "metadata": {},
   "source": [
    "##### Estadisticas totales por equipo \n",
    "\n",
    "- Mostrar **suma** de las estadisticas de *cada equipo* a lo largo de sus 2 partidas."
   ]
  },
  {
   "cell_type": "code",
   "execution_count": null,
   "metadata": {},
   "outputs": [
    {
     "name": "stdout",
     "output_type": "stream",
     "text": [
      "\n",
      "Resumen total por equipo:\n",
      "\n",
      "       Score  Kills  Deaths  Assists\n",
      "Red    19492    106      35      102\n",
      "Blue   17480     57      22      140\n",
      "White  16397    119      20       93\n"
     ]
    }
   ],
   "source": [
    "resumen_equipos = {\n",
    "    \"Red\": np.zeros(4, dtype=int),\n",
    "    \"Blue\": np.zeros(4, dtype=int),\n",
    "    \"White\": np.zeros(4, dtype=int)\n",
    "}\n",
    "\n",
    "for clave, matriz in estadisticas.items():\n",
    "    for equipo in resumen_equipos:\n",
    "        if clave.endswith(equipo):\n",
    "            resumen_equipos[equipo] += matriz.sum(axis=0)\n",
    "\n",
    "df_resumen = pd.DataFrame.from_dict(\n",
    "    resumen_equipos,\n",
    "    orient=\"index\",\n",
    "    columns=[\"Score\", \"Kills\", \"Deaths\", \"Assists\"]\n",
    ")\n",
    "\n",
    "print(\"\\nResumen total por equipo:\\n\")\n",
    "print(df_resumen)\n"
   ]
  },
  {
   "cell_type": "markdown",
   "metadata": {},
   "source": [
    "##### Estadisticas totales de K/D/A por jugador\n",
    "\n",
    "- Mostrar **suma** de las estadisticas (Kills/Deaths/Assists) de *cada jugador* a lo largo de sus 2 partidas."
   ]
  },
  {
   "cell_type": "code",
   "execution_count": null,
   "metadata": {},
   "outputs": [
    {
     "name": "stdout",
     "output_type": "stream",
     "text": [
      "\n",
      "Red:\n",
      "    Kills  Deaths  Assists\n",
      "0     30       6       32\n",
      "1     23      11       19\n",
      "2     23       6       20\n",
      "3      6       4        5\n",
      "4     24       8       26\n",
      "\n",
      "Blue:\n",
      "    Kills  Deaths  Assists\n",
      "0     20       5       31\n",
      "1     15       8       29\n",
      "2      7       3       24\n",
      "3      9       3       24\n",
      "4      6       3       32\n",
      "\n",
      "White:\n",
      "    Kills  Deaths  Assists\n",
      "0     18       5       19\n",
      "1     25       5       22\n",
      "2     33       2       33\n",
      "3     18       3       14\n",
      "4     25       5        5\n"
     ]
    }
   ],
   "source": [
    "equipos = [\"Red\", \"Blue\", \"White\"]\n",
    "columnas_estadisticas = [\"Kills\", \"Deaths\", \"Assists\"]\n",
    "\n",
    "resumen_equipos = {\n",
    "    equipo: np.zeros((5, 3), dtype=int) for equipo in equipos\n",
    "}\n",
    "\n",
    "for clave, df in estadisticas.items():\n",
    "    if not isinstance(df, pd.DataFrame):\n",
    "        df = pd.DataFrame(df, columns=[\"Score\", \"Kills\", \"Deaths\", \"Assists\"])\n",
    "        \n",
    "    equipo = clave.split(\" - \")[-1]\n",
    "    if equipo in resumen_equipos:\n",
    "        resumen_equipos[equipo] += df[[\"Kills\", \"Deaths\", \"Assists\"]].values\n",
    "\n",
    "\n",
    "resumen_df = {\n",
    "    equipo: pd.DataFrame(matriz, columns=columnas_estadisticas)\n",
    "    for equipo, matriz in resumen_equipos.items()\n",
    "}\n",
    "\n",
    "# Mostrar resultados por cada equipo\n",
    "print(\"\\nRed:\\n\", resumen_df[\"Red\"])\n",
    "print(\"\\nBlue:\\n\", resumen_df[\"Blue\"])\n",
    "print(\"\\nWhite:\\n\", resumen_df[\"White\"])\n",
    "\n"
   ]
  },
  {
   "cell_type": "markdown",
   "metadata": {},
   "source": [
    "##### K/D por jugador\n",
    "\n",
    "- Mostrar el **promedio** de K/D de *cada jugador* a lo largo de sus 2 partidas."
   ]
  },
  {
   "cell_type": "code",
   "execution_count": null,
   "metadata": {},
   "outputs": [
    {
     "name": "stdout",
     "output_type": "stream",
     "text": [
      "\n",
      "Red\n",
      "   Kills  Deaths     Ratio\n",
      "0     30       6  4.999992\n",
      "1     23      11  2.090907\n",
      "2     23       6  3.833327\n",
      "3      6       4  1.499996\n",
      "4     24       8  2.999996\n",
      "\n",
      "Blue\n",
      "   Kills  Deaths     Ratio\n",
      "0     20       5  3.999992\n",
      "1     15       8  1.874998\n",
      "2      7       3  2.333326\n",
      "3      9       3  2.999990\n",
      "4      6       3  1.999993\n",
      "\n",
      "White\n",
      "   Kills  Deaths      Ratio\n",
      "0     18       5   3.599993\n",
      "1     25       5   4.999990\n",
      "2     33       2  16.499918\n",
      "3     18       3   5.999980\n",
      "4     25       5   4.999990\n"
     ]
    }
   ],
   "source": [
    "for equipo in resumen_df:\n",
    "    df = resumen_df[equipo][[\"Kills\", \"Deaths\"]].copy()\n",
    "    df[\"Ratio\"] = df[\"Kills\"] / (df[\"Deaths\"] + 1e-5)  # 1e-5 para evitar división por 0\n",
    "\n",
    "    print(f\"\\n{equipo}\")\n",
    "    print(df)\n"
   ]
  },
  {
   "cell_type": "markdown",
   "metadata": {},
   "source": [
    "##### Rankings\n",
    "\n",
    "- Mostrar la **puntuación** más *alta*, por equipo, que haya conseguido un jugador en una partida.\n",
    "- Mostrar la **puntuación** más *baja*, por equipo, que haya conseguido un jugador en una partida.\n",
    "  \n",
    "- Mostrar al jugador con *más* **Kills** por cada equipo.\n",
    "- Mostrar al jugador con *menos* **Kills** por cada equipo.\n",
    "- Mostrar al jugador con *más* **Assists** por cada equipo.\n",
    "- Mostrar al jugador con *más* **Deaths** por cada equipo."
   ]
  },
  {
   "cell_type": "code",
   "execution_count": null,
   "metadata": {},
   "outputs": [
    {
     "name": "stdout",
     "output_type": "stream",
     "text": [
      "\n",
      "Jugadores con mayor Score en una partida:\n",
      "\n",
      " Team  Score\n",
      "  Red   2999\n",
      "White   2777\n",
      " Blue   2504\n",
      "\n",
      "Jugadores con menor Score en una partida:\n",
      "\n",
      " Team  Score\n",
      " Blue   1013\n",
      "White   1015\n",
      "  Red   1081\n",
      "\n",
      "Jugadores con más Kills totales:\n",
      "\n",
      " Team  Kills\n",
      "White     33\n",
      "  Red     30\n",
      " Blue     20\n",
      "\n",
      "Jugadores con menos Kills totales:\n",
      "\n",
      " Team  Kills\n",
      "  Red      6\n",
      " Blue      6\n",
      "White     18\n",
      "\n",
      "Jugadores con más Assists totales:\n",
      "\n",
      " Team  Assists\n",
      "White       33\n",
      "  Red       32\n",
      " Blue       32\n",
      "\n",
      "Jugadores con más Deaths totales:\n",
      "\n",
      " Team  Deaths\n",
      "  Red      11\n",
      " Blue       8\n",
      "White       5\n"
     ]
    }
   ],
   "source": [
    "matriz_max_score = []\n",
    "matriz_min_score = []\n",
    "matriz_max_kills = []\n",
    "matriz_min_kills = []\n",
    "matriz_max_assists = []\n",
    "matriz_max_deaths = []\n",
    "\n",
    "equipos = [\"Red\", \"Blue\", \"White\"]\n",
    "columnas = [\"Team\", \"Score\", \"Kills\", \"Deaths\", \"Assists\"]\n",
    "\n",
    "for equipo in equipos:\n",
    "    partidas_equipo = [k for k in estadisticas if k.endswith(f\"- {equipo}\")]\n",
    "\n",
    "    if not partidas_equipo:\n",
    "        continue\n",
    "\n",
    "\n",
    "\n",
    "\n",
    "\n",
    "    ### Para que las matrices con de los mayores y menores Score sean de una sola partida\n",
    "\n",
    "    mejor_jugador = None\n",
    "    mejor_score = -1\n",
    "    for key in partidas_equipo:\n",
    "        df = estadisticas[key]\n",
    "        if not isinstance(df, pd.DataFrame):\n",
    "            df = pd.DataFrame(df, columns=[\"Score\", \"Kills\", \"Deaths\", \"Assists\"])\n",
    "        df = df.astype(int)\n",
    "        jugador = df.loc[df[\"Score\"].idxmax()]\n",
    "        if jugador[\"Score\"] > mejor_score:\n",
    "            mejor_score = jugador[\"Score\"]\n",
    "            mejor_jugador = jugador\n",
    "    matriz_max_score.append([equipo] + mejor_jugador.to_list())\n",
    "\n",
    "    peor_jugador = None\n",
    "    menor_score = float('inf')\n",
    "    for key in partidas_equipo:\n",
    "        df = estadisticas[key]\n",
    "        if not isinstance(df, pd.DataFrame):\n",
    "            df = pd.DataFrame(df, columns=[\"Score\", \"Kills\", \"Deaths\", \"Assists\"])\n",
    "        df = df.astype(int)\n",
    "        jugador = df.loc[df[\"Score\"].idxmin()]\n",
    "        if jugador[\"Score\"] < menor_score:\n",
    "            menor_score = jugador[\"Score\"]\n",
    "            peor_jugador = jugador\n",
    "    matriz_min_score.append([equipo] + peor_jugador.to_list())\n",
    "\n",
    "\n",
    "\n",
    "    ### El resto de matrices se obtienen en base a los totales\n",
    "\n",
    "    df_total = pd.concat([estadisticas[k] for k in partidas_equipo], ignore_index=True)\n",
    "    df_total.columns = [\"Score\", \"Kills\", \"Deaths\", \"Assists\"]\n",
    "    df_equipo = df_total.groupby(df_total.index % 5).sum()\n",
    "\n",
    "    max_kills = df_equipo.loc[df_equipo[\"Kills\"].idxmax()].to_list()\n",
    "    min_kills = df_equipo.loc[df_equipo[\"Kills\"].idxmin()].to_list()\n",
    "    max_assists = df_equipo.loc[df_equipo[\"Assists\"].idxmax()].to_list()\n",
    "    max_deaths = df_equipo.loc[df_equipo[\"Deaths\"].idxmax()].to_list()\n",
    "\n",
    "    matriz_max_kills.append([equipo] + max_kills)\n",
    "    matriz_min_kills.append([equipo] + min_kills)\n",
    "    matriz_max_assists.append([equipo] + max_assists)\n",
    "    matriz_max_deaths.append([equipo] + max_deaths)\n",
    "\n",
    "\n",
    "\n",
    "\n",
    "\n",
    "df_max_score = pd.DataFrame(matriz_max_score, columns=columnas)\n",
    "df_min_score = pd.DataFrame(matriz_min_score, columns=columnas)\n",
    "df_max_kills = pd.DataFrame(matriz_max_kills, columns=columnas)\n",
    "df_min_kills = pd.DataFrame(matriz_min_kills, columns=columnas)\n",
    "df_max_assists = pd.DataFrame(matriz_max_assists, columns=columnas)\n",
    "df_max_deaths = pd.DataFrame(matriz_max_deaths, columns=columnas)\n",
    "\n",
    "df_max_score = df_max_score.sort_values(by=\"Score\", ascending=False)\n",
    "df_min_score = df_min_score.sort_values(by=\"Score\", ascending=True)\n",
    "df_max_kills = df_max_kills.sort_values(by=\"Kills\", ascending=False)\n",
    "df_min_kills = df_min_kills.sort_values(by=\"Kills\", ascending=True)\n",
    "df_max_assists = df_max_assists.sort_values(by=\"Assists\", ascending=False)\n",
    "df_max_deaths = df_max_deaths.sort_values(by=\"Deaths\", ascending=False)\n",
    "\n",
    "\n",
    "print(\"\\nJugadores con mayor Score en una partida:\\n\")\n",
    "print(df_max_score[[\"Team\", \"Score\"]].to_string(index=False) + \"\\n\")\n",
    "\n",
    "print(\"Jugadores con menor Score en una partida:\\n\")\n",
    "print(df_min_score[[\"Team\", \"Score\"]].to_string(index=False) + \"\\n\")\n",
    "\n",
    "print(\"Jugadores con más Kills totales:\\n\")\n",
    "print(df_max_kills[[\"Team\", \"Kills\"]].to_string(index=False) + \"\\n\")\n",
    "\n",
    "print(\"Jugadores con menos Kills totales:\\n\")\n",
    "print(df_min_kills[[\"Team\", \"Kills\"]].to_string(index=False) + \"\\n\")\n",
    "\n",
    "print(\"Jugadores con más Assists totales:\\n\")\n",
    "print(df_max_assists[[\"Team\", \"Assists\"]].to_string(index=False) + \"\\n\")\n",
    "\n",
    "print(\"Jugadores con más Deaths totales:\\n\")\n",
    "print(df_max_deaths[[\"Team\", \"Deaths\"]].to_string(index=False))\n",
    "\n"
   ]
  },
  {
   "cell_type": "markdown",
   "metadata": {},
   "source": [
    "### A4: Sistemas de ecuaciones"
   ]
  },
  {
   "cell_type": "markdown",
   "metadata": {},
   "source": [
    "- Se solucionarán los siguientes sistemas de ecuaciones:\n",
    "  \n",
    "\n",
    "    - $ A : \\begin{cases} -9y +  4x = 20 \\\\ -7y + 16x = 80                         \\end{cases}$\n",
    "    \n",
    "    - $ B : \\begin{cases} x - 2y + 3z = 7 \\\\ 2x + y + z = 4 \\\\ -3x + 2y -2z = -10 \\end{cases}$"
   ]
  },
  {
   "cell_type": "code",
   "execution_count": null,
   "metadata": {},
   "outputs": [],
   "source": [
    "import numpy as np\n",
    "import pandas as pd"
   ]
  },
  {
   "cell_type": "code",
   "execution_count": null,
   "metadata": {},
   "outputs": [
    {
     "name": "stdout",
     "output_type": "stream",
     "text": [
      "Solución del Sistema A:\n",
      "  x    y\n",
      "5.0 -0.0\n",
      "\n",
      "Solución del Sistema B:\n",
      "  x    y   z\n",
      "2.0 -1.0 1.0\n"
     ]
    }
   ],
   "source": [
    "coeficientes_A = np.array([[4, -9],\n",
    "               [16, -7]])\n",
    "resultado_A = np.array([20, 80])\n",
    "solucion_A = np.linalg.solve(coeficientes_A, resultado_A)\n",
    "\n",
    "\n",
    "coeficientes_B = np.array([[1, -2, 3],\n",
    "               [2, 1, 1],\n",
    "               [-3, 2, -2]])\n",
    "resultado_B = np.array([7, 4, -10])\n",
    "solucion_B = np.linalg.solve(coeficientes_B, resultado_B)\n",
    "\n",
    "\n",
    "solucion_A = pd.DataFrame([solucion_A], columns=[\"x\", \"y\"])\n",
    "solucion_B = pd.DataFrame([solucion_B], columns=[\"x\", \"y\", \"z\"])\n",
    "\n",
    "\n",
    "\n",
    "print(\"Solución del Sistema A:\")\n",
    "print(solucion_A.to_string(index=False))\n",
    "\n",
    "print(\"\\nSolución del Sistema B:\")\n",
    "print(solucion_B.to_string(index=False))\n"
   ]
  },
  {
   "cell_type": "markdown",
   "metadata": {},
   "source": [
    "### A5: DataFrame"
   ]
  },
  {
   "cell_type": "markdown",
   "metadata": {},
   "source": [
    "- Se creará un DataFrame con dimensiones de `10x10`.\n",
    "- Se utilizarán números aleatorios dentro del rango `[0,20]`.\n",
    "- S reemplazarán todos los elementos menores a 5 por `NaN`.\n",
    "- Se contará la cantidad de elementos `NaN` por cada fila."
   ]
  },
  {
   "cell_type": "code",
   "execution_count": 2,
   "metadata": {},
   "outputs": [],
   "source": [
    "import numpy as np\n",
    "import pandas as pd"
   ]
  },
  {
   "cell_type": "code",
   "execution_count": 18,
   "metadata": {},
   "outputs": [
    {
     "name": "stdout",
     "output_type": "stream",
     "text": [
      "DataFrame:\n",
      "\n",
      "\n",
      "      0     1     2     3     4     5     6     7     8     9\n",
      "0  17.0   NaN   7.0  11.0   NaN   8.0  12.0  20.0   NaN  11.0\n",
      "1   NaN  13.0   5.0   NaN   7.0   9.0  13.0   NaN   NaN   NaN\n",
      "2  16.0  17.0  20.0  10.0  11.0  18.0   NaN   NaN  16.0  17.0\n",
      "3  11.0  19.0   6.0  13.0  12.0  19.0  20.0  17.0  13.0  14.0\n",
      "4   9.0   6.0   6.0  10.0   NaN  10.0  12.0   NaN  20.0  11.0\n",
      "5  15.0  19.0   5.0  16.0  10.0  12.0  20.0   9.0  13.0   6.0\n",
      "6  12.0  16.0  15.0  20.0   5.0  11.0  10.0  13.0  20.0   8.0\n",
      "7   7.0  19.0   NaN  13.0   6.0  11.0  17.0   7.0  14.0   9.0\n",
      "8  14.0  13.0  16.0  16.0   NaN   6.0   NaN  12.0  19.0   5.0\n",
      "9   5.0   6.0  12.0   7.0   NaN   NaN   8.0  14.0  12.0  11.0\n",
      "\n",
      "\n",
      "Cantidad de NaN por fila:\n",
      "\n",
      "0    3\n",
      "1    5\n",
      "2    2\n",
      "3    0\n",
      "4    2\n",
      "5    0\n",
      "6    0\n",
      "7    1\n",
      "8    2\n",
      "9    2\n",
      "dtype: int64\n"
     ]
    }
   ],
   "source": [
    "df = pd.DataFrame(np.random.randint(0, 21, size=(10, 10)))\n",
    "\n",
    "df = df.mask(df < 5, np.nan)\n",
    "\n",
    "nan_por_fila = df.isna().sum(axis=1)\n",
    "\n",
    "print(\"DataFrame:\\n\\n\")\n",
    "print(df)\n",
    "\n",
    "print(\"\\n\\nCantidad de NaN por fila:\\n\")\n",
    "print(nan_por_fila)"
   ]
  },
  {
   "cell_type": "markdown",
   "metadata": {},
   "source": [
    "### A6: Datasets"
   ]
  },
  {
   "cell_type": "markdown",
   "metadata": {},
   "source": [
    "- Se utilizará Pandas para obtener:\n",
    "  \n",
    "  - Alumno con la mejor nota y asignatura.\n",
    "  - Alumnos con asignaturas suspendidas en el primer semestre.\n",
    "  - La media de edad de los asistentes a la asignatura de Python\n",
    "  - Utilizar las iniciales de los estudiantes, ordenados por edad, para formar una palabra.\n",
    "  \n",
    "\n",
    "- Se generará un grafica para:\n",
    "  \n",
    "  - Una agrupación por sexo para clasificar las notas medias de todos los estudiantes por asignatura.\n",
    "  - Una agrupando por sexo para visualizar la densidad bivariable de la edad de los estudiantes frente a sus notas (dispersión de los datos por la zona central y curvas de densidad a lo largo de los ejes)."
   ]
  },
  {
   "cell_type": "code",
   "execution_count": 1,
   "metadata": {},
   "outputs": [],
   "source": [
    "import pandas as pd\n",
    "import numpy as np\n",
    "import matplotlib.pyplot as plt\n",
    "import seaborn as sns"
   ]
  },
  {
   "cell_type": "code",
   "execution_count": 4,
   "metadata": {},
   "outputs": [
    {
     "name": "stdout",
     "output_type": "stream",
     "text": [
      "🔹 Alumno con mayor calificación: Yael\n",
      "🔹 Asignatura: Python\n",
      "🔹 Alumnos con materias suspendiada en 1er Semestre: 3\n",
      "🔹 Edad media de asistentes a Python: 32.4\n",
      "🔹 Palabra formada con iniciales (ordenadas por edad): PYTHON\n"
     ]
    },
    {
     "data": {
      "image/png": "[encoded data removed]",
      "text/plain": [
       "<Figure size 800x500 with 1 Axes>"
      ]
     },
     "metadata": {},
     "output_type": "display_data"
    },
    {
     "data": {
      "text/plain": [
       "<Figure size 800x600 with 0 Axes>"
      ]
     },
     "metadata": {},
     "output_type": "display_data"
    },
    {
     "data": {
      "image/png": "[encoded data removed]",
      "text/plain": [
       "<Figure size 600x600 with 3 Axes>"
      ]
     },
     "metadata": {},
     "output_type": "display_data"
    }
   ],
   "source": [
    "students = {\n",
    "    'StudentId': [1, 2, 3, 4, 5, 6],\n",
    "    'Name': ['Yael', 'Thomas', 'Paula', 'Orlando', 'Hannah', 'Nicole'],\n",
    "    'Age': [22, 31, 19, 44, 39, 51],\n",
    "    'Sex': ['M', 'M', 'F', 'M', 'F', 'F']\n",
    "}\n",
    "\n",
    "subjects = {\n",
    "    'SubjectId': [1, 2, 3],\n",
    "    'Name': ['Python', 'Math', 'DeepLearning'],\n",
    "    'Semester': [1, 1, 2]\n",
    "}\n",
    "\n",
    "marks = {\n",
    "    'StudentId': [2, 2, 1, 3, 6, 4, 4, 3, 2, 5],\n",
    "    'SubjectId': [1, 3, 1, 2, 1, 2, 3, 1, 2, 1],\n",
    "    'Mark':      [6, 5, 8, 3, 5, 2, 7, 2, 4, 6]\n",
    "}\n",
    "\n",
    "df_students = pd.DataFrame(students)\n",
    "df_subjects = pd.DataFrame(subjects)\n",
    "df_marks = pd.DataFrame(marks)\n",
    "\n",
    "df = df_marks.merge(df_students, on='StudentId')\n",
    "df = df.merge(df_subjects, on='SubjectId', suffixes=('', '_Subject'))\n",
    "\n",
    "\n",
    "mejor_nota_fila = df.loc[df['Mark'].idxmax()]\n",
    "alumno_mejor_nota = mejor_nota_fila['Name']\n",
    "asignatura_mejor_nota = mejor_nota_fila['Name_Subject']\n",
    "\n",
    "suspendidos_S1 = df[(df['Semester'] == 1) & (df['Mark'] < 5)]\n",
    "num_alumnos_suspendidos = suspendidos_S1['StudentId'].nunique()\n",
    "\n",
    "edad_media_python = df[df['Name_Subject'] == 'Python']['Age'].mean()\n",
    "\n",
    "iniciales = ''.join(df_students.sort_values('Age')['Name'].str[0])\n",
    "\n",
    "\n",
    "\n",
    "# ========================================================================\n",
    "#                                Resultados:\n",
    "# ========================================================================\n",
    "\n",
    "print(\"🔹 Alumno con mayor calificación:\", alumno_mejor_nota)\n",
    "print(\"🔹 Asignatura:\", asignatura_mejor_nota)\n",
    "print(\"🔹 Alumnos con materias suspendiada en 1er Semestre:\", num_alumnos_suspendidos)\n",
    "print(\"🔹 Edad media de asistentes a Python:\", round(edad_media_python, 2))\n",
    "print(\"🔹 Palabra formada con iniciales (ordenadas por edad):\", iniciales)\n",
    "\n",
    "\n",
    "# ========================================================================\n",
    "#                     Nota media por asignatura y sexo.\n",
    "# ========================================================================\n",
    "\n",
    "plt.figure(figsize=(8, 5))\n",
    "sns.barplot(data=df, x='Name_Subject', y='Mark', hue='Sex', estimator=np.mean)\n",
    "plt.title('Notas medias por asignatura y sexo')\n",
    "plt.ylabel('Nota media')\n",
    "plt.xlabel('Asignatura')\n",
    "plt.tight_layout()\n",
    "plt.show()\n",
    "\n",
    "\n",
    "# ========================================================================\n",
    "#                               Edad vs Nota\n",
    "# ========================================================================\n",
    "\n",
    "plt.figure(figsize=(8, 6))\n",
    "sns.jointplot(data=df, x='Age', y='Mark', hue='Sex', kind='scatter')\n",
    "plt.suptitle('Edad vs Nota (por sexo)', y=1.02)\n",
    "plt.tight_layout()\n",
    "plt.show()\n"
   ]
  },
  {
   "cell_type": "markdown",
   "metadata": {},
   "source": [
    "### A7: Series"
   ]
  },
  {
   "cell_type": "markdown",
   "metadata": {},
   "source": [
    "- Se implementará la función `find_not_common`.\n",
    "- Se utilizarán dos series como referencia. \n",
    "- El resultado será una serie con los elementos no comúnes: `[4, 6, 14, 16]`"
   ]
  },
  {
   "cell_type": "code",
   "execution_count": null,
   "metadata": {},
   "outputs": [],
   "source": [
    "import pandas as pd"
   ]
  },
  {
   "cell_type": "code",
   "execution_count": 11,
   "metadata": {},
   "outputs": [
    {
     "name": "stdout",
     "output_type": "stream",
     "text": [
      "Serie de not_commons:\n",
      " [4, 6, 14, 16]\n"
     ]
    }
   ],
   "source": [
    "def find_not_common(s1, s2):\n",
    "    set1 = set(s1)\n",
    "    set2 = set(s2)\n",
    "\n",
    "    not_in_s2 = [x for x in s1 if x not in set2]\n",
    "    not_in_s1 = [x for x in s2 if x not in set1]\n",
    "\n",
    "    return pd.Series(not_in_s2 + not_in_s1)\n",
    "\n",
    "p1 = pd.Series([2, 4, 12, 6, 8, 10])\n",
    "p2 = pd.Series([8, 10, 12, 10, 14, 2, 16, 10])\n",
    "\n",
    "print(\"Serie de not_commons:\\n\",find_not_common(p1, p2).tolist())\n",
    "\n"
   ]
  }
 ],
 "metadata": {
  "kernelspec": {
   "display_name": "Actividad_1-w7hzcujI",
   "language": "python",
   "name": "python3"
  },
  "language_info": {
   "codemirror_mode": {
    "name": "ipython",
    "version": 3
   },
   "file_extension": ".py",
   "mimetype": "text/x-python",
   "name": "python",
   "nbconvert_exporter": "python",
   "pygments_lexer": "ipython3",
   "version": "3.12.10"
  }
 },
 "nbformat": 4,
 "nbformat_minor": 2
}
